{
  "nbformat": 4,
  "nbformat_minor": 0,
  "metadata": {
    "colab": {
      "provenance": []
    },
    "kernelspec": {
      "name": "python3",
      "display_name": "Python 3"
    },
    "language_info": {
      "name": "python"
    }
  },
  "cells": [
    {
      "cell_type": "code",
      "source": [
        "jupyter nbconvert 02-CloneGraph.ipynb --to markdown --output 02-CloneGraph.md"
      ],
      "metadata": {
        "colab": {
          "base_uri": "https://localhost:8080/",
          "height": 106
        },
        "id": "kzhviCoptJeJ",
        "outputId": "cd79c701-1650-4a6a-8584-f7c04a8bfab0"
      },
      "execution_count": 1,
      "outputs": [
        {
          "output_type": "error",
          "ename": "SyntaxError",
          "evalue": "leading zeros in decimal integer literals are not permitted; use an 0o prefix for octal integers (<ipython-input-1-3d7c5850d1a3>, line 1)",
          "traceback": [
            "\u001b[0;36m  File \u001b[0;32m\"<ipython-input-1-3d7c5850d1a3>\"\u001b[0;36m, line \u001b[0;32m1\u001b[0m\n\u001b[0;31m    jupyter nbconvert 02-CloneGraph.ipynb --to markdown --output 02-CloneGraph.md\u001b[0m\n\u001b[0m                      ^\u001b[0m\n\u001b[0;31mSyntaxError\u001b[0m\u001b[0;31m:\u001b[0m leading zeros in decimal integer literals are not permitted; use an 0o prefix for octal integers\n"
          ]
        }
      ]
    },
    {
      "cell_type": "markdown",
      "source": [
        "# Clone Graph:\n",
        "###Solving approach: BFS\n",
        "**storing visited clones in HashMap**\n",
        "```python\n",
        "clones = {} # {node: copy_node}\n",
        "```\n",
        "1. Handling the edge case\n",
        "```python\n",
        "if not node:\n",
        "      return node #None\n",
        "```\n",
        "2. Using BFS in traversing original graph\n",
        "```python\n",
        "clones[node] = Node(node.val) # {node1: copy_node1}\n",
        "Q = [node] # Q initialization\n",
        "```\n",
        "3. Traversal begins `Q > 0`\n",
        "  1. Standing on: current node, copyNode\n",
        "```python\n",
        "  node = Q.deque()\n",
        "  copyNode = clones[node]\n",
        "```\n",
        "  2. Visit neighbours of node (in original graph)\n",
        "  ```python\n",
        "  for nei in node.neighbours:\n",
        "  ```\n",
        "    a. Non-visited neighbour: create clone, add to queue (& traverse)\n",
        "  ```python\n",
        "  if nei not in clones:\n",
        "        clones[nei] = Node(node.val)\n",
        "        Q.append(nei)\n",
        "  ```\n",
        "    b. Visited neighbour: add it as neighbour to copyNode\n",
        "  ```python\n",
        "  copyNode.neighbours.append(clones[nei])\n",
        "  ```\n",
        "4. return `clones[node]`"
      ],
      "metadata": {
        "id": "2n0kr59sYku4"
      }
    },
    {
      "cell_type": "code",
      "execution_count": null,
      "metadata": {
        "id": "lsgYL8s5YRl4"
      },
      "outputs": [],
      "source": [
        "class Solution:\n",
        "    def cloneGraph(self, node: 'Node') -> 'Node':\n",
        "        if not node: return node\n",
        "\n",
        "        q, clones = deque([node]), {node.val: Node(node.val, [])}\n",
        "        while q:\n",
        "            cur = q.popleft()\n",
        "            cur_clone = clones[cur.val]\n",
        "\n",
        "            for ngbr in cur.neighbors:\n",
        "                if ngbr.val not in clones:\n",
        "                    clones[ngbr.val] = Node(ngbr.val, [])\n",
        "                    q.append(ngbr)\n",
        "\n",
        "                cur_clone.neighbors.append(clones[ngbr.val])\n",
        "\n",
        "        return clones[node.val]"
      ]
    },
    {
      "cell_type": "markdown",
      "source": [
        "# Clone Graph:\n",
        "###Solving approach: DFS\n",
        "**storing visited clones in HashMap**\n",
        "```python\n",
        "clones = {} # {node: copy_node}\n",
        "```\n",
        "1. Handling the edge case\n",
        "```python\n",
        "if not node:\n",
        "      return node #None\n",
        "```\n",
        "2. Using DFS in traversing original graph\n",
        "```python\n",
        "def clone(node: Node) -> Node:\n",
        "```\n",
        "  1. Visited node : return `copy`\n",
        "  ```python\n",
        "  if node in clones:\n",
        "        return clones[node]\n",
        "  ```\n",
        "  2. Non-Visited node: traverse\n",
        "  ```python\n",
        "  copy = Node(node.val)\n",
        "  clones[node] = copy # {node1: copy1}\n",
        "  ```\n",
        "    1. Visit all the neighbors\n",
        "    ```python\n",
        "    for nei in node.neighbors:\n",
        "            copy.neighbors.append(clone(nei))\n",
        "    ```\n",
        "    2. Now we have `copy`, `copy.neighbors`\n",
        "    ```python\n",
        "    return copy\n",
        "    ```"
      ],
      "metadata": {
        "id": "guQ_-jsQor2i"
      }
    },
    {
      "cell_type": "code",
      "source": [
        "def cloneGraph(self, node: 'Node') -> 'Node':\n",
        "  if not node:\n",
        "    return node # None\n",
        "\n",
        "  clones = {}\n",
        "\n",
        "  return clone(node, clones)\n",
        ""
      ],
      "metadata": {
        "id": "FB7940GIosXP"
      },
      "execution_count": null,
      "outputs": []
    },
    {
      "cell_type": "code",
      "source": [
        "def clone(node, clones):\n",
        "    if node in clones:\n",
        "      return clones[node]\n",
        "\n",
        "    copy = Node(node.val)\n",
        "    clones[node] = copy\n",
        "\n",
        "    for nei in node.neighbors:\n",
        "      copy.neighbors.append(clone(nei))\n",
        "    return copy"
      ],
      "metadata": {
        "id": "7OEGXBqFpl_N"
      },
      "execution_count": null,
      "outputs": []
    },
    {
      "cell_type": "markdown",
      "source": [],
      "metadata": {
        "id": "mI-NAgN3ptuq"
      }
    }
  ]
}