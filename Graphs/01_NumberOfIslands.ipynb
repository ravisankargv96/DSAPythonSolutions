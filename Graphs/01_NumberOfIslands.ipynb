{
  "nbformat": 4,
  "nbformat_minor": 0,
  "metadata": {
    "colab": {
      "provenance": [],
      "toc_visible": true
    },
    "kernelspec": {
      "name": "python3",
      "display_name": "Python 3"
    },
    "language_info": {
      "name": "python"
    }
  },
  "cells": [
    {
      "cell_type": "markdown",
      "source": [
        "Testing markdown download"
      ],
      "metadata": {
        "id": "OkjE3lFbs682"
      }
    },
    {
      "cell_type": "code",
      "source": [
        "!jupyter nbconvert --to markdown Test.ipynb"
      ],
      "metadata": {
        "colab": {
          "base_uri": "https://localhost:8080/"
        },
        "id": "bGqlkJLAtq38",
        "outputId": "fda5e842-7aa8-49f5-cb90-652f9d93ddaa"
      },
      "execution_count": null,
      "outputs": [
        {
          "output_type": "stream",
          "name": "stdout",
          "text": [
            "[NbConvertApp] Converting notebook Test.ipynb to markdown\n",
            "[NbConvertApp] Writing 52 bytes to Test.md\n"
          ]
        }
      ]
    },
    {
      "cell_type": "markdown",
      "source": [
        "**Bfs**:\n",
        "\n",
        "> ```python\n",
        ">grid\n",
        ">(r,c) # cell index\n",
        ">(rows, cols) # mxn\n",
        "> visited # grid_shape + tracking\n",
        "> ```\n",
        "\n",
        "##### BFS Algo:\n",
        "1. *Store visited cells in Q*:\n",
        "```python\n",
        "visited[r][c] = '1'\n",
        "Q.append((r,c))\n",
        "```\n",
        "2. *loop:*`len(Q) > 0`\n",
        "  1. get current cell `row, col`\n",
        "  ```python\n",
        "  row, col = Q.popleft()\n",
        "  ```\n",
        "  2. look around neighbours\n",
        "  ```python\n",
        "  [\n",
        "    (row - 1, col), # = up\n",
        "    (row + 1, col), # = down\n",
        "    (row, col - 1), # = left\n",
        "    (row, col + 1)  # = right\n",
        "  ]\n",
        "  ```\n",
        "  3. Add unvisited neighbours\n",
        "  ```python\n",
        "  for n_row, n_col in [up, down, left, right]\n",
        "  ```\n",
        "    * New cell should be in the grid\n",
        "    * Cell will be land `1`\n",
        "    * Cell is unvisited\n",
        "  ```python\n",
        "          # it should be unvisited land in the grid.\n",
        "          if  0 < n_row < len(grid) # row\n",
        "              and 0 < n_col < len(grid[0]) # col\n",
        "              and grid[n_row][n_col] == \"1\" # land\n",
        "              and not visited[n_row][n_col]: # not visited\n",
        "  ```\n",
        "    * ***Visit them & add to Q***\n",
        "    ```python\n",
        "              visited[n_row][n_col] = 1 # visited.\n",
        "              Q.append((n_row, n_col)) # added to queue\n",
        "    ```\n"
      ],
      "metadata": {
        "id": "0jwRR7-76HKq"
      }
    },
    {
      "cell_type": "code",
      "source": [
        "from typing import List\n",
        "from collections import deque"
      ],
      "metadata": {
        "id": "xGpj7lIiBzXA"
      },
      "execution_count": null,
      "outputs": []
    },
    {
      "cell_type": "code",
      "source": [
        "# Helper function to perform BFS and mark connected land as visited\n",
        "def bfs(grid: List[List[str]], r: int, c: int, rows: int, cols: int, visited: set):\n",
        "    q = deque()\n",
        "    visited.add((r, c))\n",
        "    q.append((r, c))\n",
        "\n",
        "    while q:\n",
        "        row, col = q.popleft()\n",
        "        # Define directions for moving up, down, left, and right\n",
        "        directions = [[1, 0], [-1, 0], [0, 1], [0, -1]]\n",
        "\n",
        "        for dr, dc in directions:\n",
        "            new_r, new_c = row + dr, col + dc\n",
        "            # Check boundaries, unvisited land, and mark it visited\n",
        "            if (new_r in range(rows) and new_c in range(cols)\n",
        "                and grid[new_r][new_c] == '1'\n",
        "                and (new_r, new_c) not in visited):\n",
        "\n",
        "                q.append((new_r, new_c))\n",
        "                visited.add((new_r, new_c))"
      ],
      "metadata": {
        "id": "jyjfU12f65L0"
      },
      "execution_count": null,
      "outputs": []
    },
    {
      "cell_type": "markdown",
      "source": [
        "### NumIslands:\n",
        "\n",
        "##### 1. Null check\n",
        "```python\n",
        "grid: [[]]\n",
        "# given list should not be null, if it's null return 0\n",
        "not grid or not grid[0]\n",
        "```\n",
        "\n",
        "##### 2. Get grid size.\n",
        "```python\n",
        "# [\n",
        "#   [0, 0, 0],\n",
        "#   [0, 0, 0],\n",
        "# ]  \n",
        "rows = len(grid)\n",
        "cols = len(grid[0])\n",
        "```\n",
        "\n",
        "##### 3. Traverse across the grid\n",
        "```python\n",
        "for r in rows:\n",
        "  for c in cols:\n",
        "```\n",
        "  * Explore each island\n",
        "  * Increment the count\n",
        "  * Mark it as visited `bfs` takes care of it.\n",
        "  ```python\n",
        "  if grid[r][c] == '1':\n",
        "          num_islands += 1 # increment the count\n",
        "          bfs(r,c, visited) # Exploring & marking it as visited\n",
        "  ```\n",
        "\n",
        "##### 4. Returns total count\n",
        "```python\n",
        "return num_islands\n",
        "```"
      ],
      "metadata": {
        "id": "-i_fiomZB9Wd"
      }
    },
    {
      "cell_type": "code",
      "source": [
        "\n",
        "# Main function to count the number of islands\n",
        "def numIslands(grid: List[List[str]]) -> int:\n",
        "    if not grid:\n",
        "        return 0\n",
        "\n",
        "    rows, cols = len(grid), len(grid[0])\n",
        "    visited = set()\n",
        "    islands = 0\n",
        "\n",
        "    # Traverse each cell in the grid\n",
        "    for r in range(rows):\n",
        "        for c in range(cols):\n",
        "            # If the cell is land ('1') and hasn't been visited, it's a new island\n",
        "            if grid[r][c] == \"1\" and (r, c) not in visited:\n",
        "                bfs(grid, r, c, rows, cols, visited)  # Perform BFS to mark the entire island\n",
        "                islands += 1  # Increment island count\n",
        "\n",
        "    return islands\n"
      ],
      "metadata": {
        "id": "ywRwDTPC67PP"
      },
      "execution_count": null,
      "outputs": []
    },
    {
      "cell_type": "markdown",
      "source": [
        "### Dfs:\n",
        "\n",
        "> ```python\n",
        ">grid\n",
        ">(r,c) # cell index\n",
        ">(rows, cols) # mxn\n",
        "> ```\n",
        "\n",
        "##### Boundary Conditions:\n",
        "1. *Out of bounds*:\n",
        "```python\n",
        "r < 0 or c < 0 or r >= rows or c >= cols\n",
        "```\n",
        "2. *Already Visited* or *Contains water*:\n",
        "```python\n",
        "grid[r][c] == '0'\n",
        "```\n",
        "\n",
        "#### Traversal Begins\n",
        "```python\n",
        "grid[r][c] == '0' # visit the cell\n",
        "```\n",
        "\n",
        "#### Explore all 4 directions\n",
        "```python\n",
        "# current (r, c)\n",
        "dfs(r - 1, c)  # Up\n",
        "dfs(r + 1, c)  # Down\n",
        "dfs(r, c - 1)  # Left\n",
        "dfs(r, c + 1)  # Right\n",
        "```"
      ],
      "metadata": {
        "id": "jJVHVDgIwGg2"
      }
    },
    {
      "cell_type": "code",
      "source": [
        "from typing import List\n",
        "def dfs(grid: List[List[str]], r: int, c: int, rows: int, cols: int):\n",
        "\n",
        "    # Check if current position is out of bounds or already visited/water\n",
        "    if r < 0 or c < 0 or r >= rows or c >= cols or grid[r][c] == '0':\n",
        "        return\n",
        "\n",
        "    # Mark the cell as visited by setting it to '0'\n",
        "    grid[r][c] = '0'\n",
        "\n",
        "    # Visit all adjacent cells (up, down, left, right)\n",
        "    dfs(grid, r - 1, c, rows, cols)  # Up\n",
        "    dfs(grid, r + 1, c, rows, cols)  # Down\n",
        "    dfs(grid, r, c - 1, rows, cols)  # Left\n",
        "    dfs(grid, r, c + 1, rows, cols)  # Right\n"
      ],
      "metadata": {
        "id": "X6ffpksXv3nn"
      },
      "execution_count": null,
      "outputs": []
    },
    {
      "cell_type": "markdown",
      "source": [
        "### NumIslands:\n",
        "\n",
        "##### 1. Null check\n",
        "```python\n",
        "grid: [[]]\n",
        "# given list should not be null, if it's null return 0\n",
        "not grid or not grid[0]\n",
        "```\n",
        "\n",
        "##### 2. Get grid size.\n",
        "```python\n",
        "# [\n",
        "#   [0, 0, 0],\n",
        "#   [0, 0, 0],\n",
        "# ]  \n",
        "rows = len(grid)\n",
        "cols = len(grid[0])\n",
        "```\n",
        "\n",
        "##### 3. Traverse across the grid\n",
        "```python\n",
        "for r in rows:\n",
        "  for c in cols:\n",
        "```\n",
        "  * Explore each island\n",
        "  * Increment the count\n",
        "  * Mark it as water `dfs` takes care of it.\n",
        "  ```python\n",
        "  if grid[r][c] == '1':\n",
        "          num_islands += 1 # increment the count\n",
        "          dfs(r,c) # Exploring & marking it as water\n",
        "  ```\n",
        "\n",
        "##### 4. Returns total count\n",
        "```python\n",
        "return num_islands\n",
        "```"
      ],
      "metadata": {
        "id": "NERv3LmA1x0-"
      }
    },
    {
      "cell_type": "code",
      "execution_count": null,
      "metadata": {
        "id": "QSh6ohR0s4jj"
      },
      "outputs": [],
      "source": [
        "# Main function to count the number of islands\n",
        "def numIslands(grid: List[List[str]]) -> int:\n",
        "\n",
        "    # If the grid is empty, there are no islands\n",
        "    if not grid or not grid[0]:\n",
        "        return 0\n",
        "\n",
        "    rows, cols = len(grid), len(grid[0])\n",
        "\n",
        "    num_islands = 0\n",
        "\n",
        "    # Traverse each cell in the grid\n",
        "    for r in range(rows):\n",
        "        for c in range(cols):\n",
        "\n",
        "            if grid[r][c] == '1':\n",
        "                num_islands += 1  # Increment the island count\n",
        "                dfs(grid, r, c, rows, cols)\n",
        "\n",
        "    return num_islands"
      ]
    }
  ]
}